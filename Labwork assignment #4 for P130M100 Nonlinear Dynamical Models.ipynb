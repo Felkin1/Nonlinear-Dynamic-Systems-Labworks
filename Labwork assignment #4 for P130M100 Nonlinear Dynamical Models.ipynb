{
 "cells": [
  {
   "cell_type": "markdown",
   "metadata": {},
   "source": [
    "# Cheatsheets\n",
    "https://wch.github.io/latexsheet/ - Latex"
   ]
  },
  {
   "cell_type": "markdown",
   "metadata": {},
   "source": [
    "# Notebook Link\n",
    "TBD"
   ]
  },
  {
   "cell_type": "markdown",
   "metadata": {},
   "source": [
    "# Task 1 - Prisoner's Dilemma"
   ]
  },
  {
   "cell_type": "markdown",
   "metadata": {},
   "source": [
    "The Prisoner’s Dilemma was one of the earliest “games” developed in game theory.\n",
    "\n",
    "By simulating the Prisoner’s Dilemma we are given an excellent method of studying the issues of conflict vs.\n",
    "cooperation between individuals. Since the Prisoner’s Dilemma is so basic, it can be used as a model for\n",
    "various schools of thought, from economics to military strategy to zoology, and even Artificial Intelligence.\n",
    "\n",
    "1. An agent only cares about itself (it is naturally selfish)\n",
    "\n",
    "2. Cooperation can be mutually beneficial for all involved\n",
    "\n",
    "A static 2×2 game represents various combinations of individual choices to cooperate\n",
    "or defect.\n",
    "\n",
    "Scenario:\n",
    "\n",
    "• You and an accomplice are arrested on suspicion of committing some nasty crime.\n",
    "\n",
    "• The police have been unable to produce enough evidence to convict you of that offense.\n",
    "\n",
    "• You and an accomplice are held in separate cells. You are not allowed to communicate with each other at\n",
    "all.\n",
    "\n",
    "• Each prisoner is told the following: We have arrested you and another person for committing this crime\n",
    "together.\n",
    "\n",
    "If you both confess, we will reward your assistance to us, by sentencing you both lightly: 2 years in prison.\n",
    "If you confess, and the other person does not, we will show our appreciation to you by letting you go. We\n",
    "will then use your testimony to put the other person in prison for 10 years.\n",
    "\n",
    "If you both don’t confess, we will not be able to convict you, but we will be able to hold you here and make\n",
    "you as uncomfortable as we can for 30 days.\n",
    "If you don't confess, and the other person does, that person's testimony will be used to put you in prison\n",
    "for 10 years; your accomplice will go free in exchange for the testimony.\n",
    "Each of you is being given the same deal. Think about it.\n",
    "\n",
    "A static 2×2 game represents various combinations of individual choices to cooperate or defect.\n",
    "A canonical payoff matrix:\n",
    "\n",
    "• R is the “reward” both players receive if they both cooperate\n",
    "\n",
    "• P is the “punishment” payoff both players receive if they both defect\n",
    "\n",
    "• P1 receives the “temptation” payoff T if P1 defects while P2 cooperates (P2 receives the “sucker’s” payoff\n",
    "S)\n",
    "\n",
    "• Similarly, if P1 cooperates while P2 defects, then P1 receives S while P2 receives T"
   ]
  },
  {
   "cell_type": "markdown",
   "metadata": {},
   "source": [
    "### Constructing the system"
   ]
  },
  {
   "cell_type": "code",
   "execution_count": null,
   "metadata": {},
   "outputs": [],
   "source": [
    "def utility(m,r,s,t,p):\n",
    "    "
   ]
  },
  {
   "cell_type": "markdown",
   "metadata": {},
   "source": [
    "### Sub task 1 - Investigate the behavior of the system when R = 3; S = 2; T = 4; P = 0"
   ]
  },
  {
   "cell_type": "code",
   "execution_count": null,
   "metadata": {},
   "outputs": [],
   "source": []
  },
  {
   "cell_type": "markdown",
   "metadata": {},
   "source": [
    "### Sub task 2 - Try to use different values of R, S, T, P – observe the formation of different patterns. Use Wikipedia for searching different combinations of these parameters."
   ]
  },
  {
   "cell_type": "code",
   "execution_count": null,
   "metadata": {},
   "outputs": [],
   "source": []
  },
  {
   "cell_type": "markdown",
   "metadata": {},
   "source": [
    "# Task 2 - Beddington DeAngelis Model"
   ]
  },
  {
   "cell_type": "markdown",
   "metadata": {},
   "source": []
  },
  {
   "cell_type": "markdown",
   "metadata": {},
   "source": [
    "### Constructing the system"
   ]
  },
  {
   "cell_type": "code",
   "execution_count": null,
   "metadata": {},
   "outputs": [],
   "source": []
  },
  {
   "cell_type": "markdown",
   "metadata": {},
   "source": [
    "### Sub task 1 - Construct the numerical scheme for the Beddington DeAngelis model. Simulate and replicate the results shown in Figure 1."
   ]
  },
  {
   "cell_type": "code",
   "execution_count": null,
   "metadata": {},
   "outputs": [],
   "source": []
  },
  {
   "cell_type": "markdown",
   "metadata": {},
   "source": [
    "### Sub task 2 - Experiment with different distributions of random numbers in the initial concentration of predators and preys. Observe the differences in the patterns."
   ]
  },
  {
   "cell_type": "code",
   "execution_count": null,
   "metadata": {},
   "outputs": [],
   "source": []
  },
  {
   "cell_type": "markdown",
   "metadata": {},
   "source": [
    "### Sub task 2 - Try to change the parameters of the system and observe how these changes result into different types of patterns."
   ]
  },
  {
   "cell_type": "code",
   "execution_count": null,
   "metadata": {},
   "outputs": [],
   "source": []
  }
 ],
 "metadata": {
  "kernelspec": {
   "display_name": "Python 3",
   "language": "python",
   "name": "python3"
  },
  "language_info": {
   "codemirror_mode": {
    "name": "ipython",
    "version": 3
   },
   "file_extension": ".py",
   "mimetype": "text/x-python",
   "name": "python",
   "nbconvert_exporter": "python",
   "pygments_lexer": "ipython3",
   "version": "3.7.0"
  }
 },
 "nbformat": 4,
 "nbformat_minor": 2
}
