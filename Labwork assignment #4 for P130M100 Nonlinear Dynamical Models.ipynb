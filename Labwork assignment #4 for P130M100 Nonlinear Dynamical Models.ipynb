{
 "cells": [
  {
   "cell_type": "markdown",
   "metadata": {},
   "source": [
    "# Cheatsheets\n",
    "https://wch.github.io/latexsheet/ - Latex"
   ]
  },
  {
   "cell_type": "markdown",
   "metadata": {},
   "source": [
    "# Notebook Link\n",
    "TBD"
   ]
  },
  {
   "cell_type": "code",
   "execution_count": 76,
   "metadata": {},
   "outputs": [],
   "source": [
    " from IPython.display import HTML, display\n",
    "def display_table(data):\n",
    "     display(HTML(\n",
    "    '<table><tr>{}</tr></table>'.format(\n",
    "        '</tr><tr>'.join(\n",
    "            '<td>{}</td>'.format('</td><td>'.join(str(_) for _ in row)) for row in data)\n",
    "        )))"
   ]
  },
  {
   "cell_type": "markdown",
   "metadata": {},
   "source": [
    "# Task 1 - Prisoner's Dilemma"
   ]
  },
  {
   "cell_type": "markdown",
   "metadata": {},
   "source": [
    "The Prisoner’s Dilemma was one of the earliest “games” developed in game theory.\n",
    "\n",
    "By simulating the Prisoner’s Dilemma we are given an excellent method of studying the issues of conflict vs.\n",
    "cooperation between individuals. Since the Prisoner’s Dilemma is so basic, it can be used as a model for\n",
    "various schools of thought, from economics to military strategy to zoology, and even Artificial Intelligence.\n",
    "\n",
    "1. An agent only cares about itself (it is naturally selfish)\n",
    "\n",
    "2. Cooperation can be mutually beneficial for all involved\n",
    "\n",
    "A static 2×2 game represents various combinations of individual choices to cooperate\n",
    "or defect.\n",
    "\n",
    "Scenario:\n",
    "\n",
    "• You and an accomplice are arrested on suspicion of committing some nasty crime.\n",
    "\n",
    "• The police have been unable to produce enough evidence to convict you of that offense.\n",
    "\n",
    "• You and an accomplice are held in separate cells. You are not allowed to communicate with each other at\n",
    "all.\n",
    "\n",
    "• Each prisoner is told the following: We have arrested you and another person for committing this crime\n",
    "together.\n",
    "\n",
    "If you both confess, we will reward your assistance to us, by sentencing you both lightly: 2 years in prison.\n",
    "If you confess, and the other person does not, we will show our appreciation to you by letting you go. We\n",
    "will then use your testimony to put the other person in prison for 10 years.\n",
    "\n",
    "If you both don’t confess, we will not be able to convict you, but we will be able to hold you here and make\n",
    "you as uncomfortable as we can for 30 days.\n",
    "If you don't confess, and the other person does, that person's testimony will be used to put you in prison\n",
    "for 10 years; your accomplice will go free in exchange for the testimony.\n",
    "Each of you is being given the same deal. Think about it.\n",
    "\n",
    "A static 2×2 game represents various combinations of individual choices to cooperate or defect.\n",
    "A canonical payoff matrix:\n",
    "\n",
    "• R is the “reward” both players receive if they both cooperate\n",
    "\n",
    "• P is the “punishment” payoff both players receive if they both defect\n",
    "\n",
    "• P1 receives the “temptation” payoff T if P1 defects while P2 cooperates (P2 receives the “sucker’s” payoff\n",
    "S)\n",
    "\n",
    "• Similarly, if P1 cooperates while P2 defects, then P1 receives S while P2 receives T"
   ]
  },
  {
   "cell_type": "markdown",
   "metadata": {},
   "source": [
    "### Constructing the system"
   ]
  },
  {
   "cell_type": "code",
   "execution_count": 84,
   "metadata": {},
   "outputs": [],
   "source": [
    "import numpy as np\n",
    "import copy\n",
    "\n",
    "def get_cell(m,i,j,x,y):\n",
    "    if i >= x : i = 0\n",
    "    if i < 0: i = x-1\n",
    "    if j >= y: j = 0\n",
    "    if j < 0 : j = y - 1\n",
    "    return m[i,j]\n",
    "    \n",
    "def utility(m,r,s,t,p,x,y,neighbors):\n",
    "    u = np.zeros((x, y))\n",
    "    for i in range(x):\n",
    "        for j in range(y):\n",
    "            for ng in neighbors:\n",
    "                cell = get_cell(m,i+ng[0],j+ng[1],x,y)\n",
    "                u[i,j] += m[i,j]*cell*p + (1-cell*t) + (1-m[i,j]) * (cell*s + (1-cell)*r)\n",
    "    return u\n",
    "\n",
    "def pick_strategy(m,i,j,x,y,neighbors,u):\n",
    "    max_cell = u[i,j]\n",
    "    max_coords = [i,j]\n",
    "    for ng in neighbors:\n",
    "        cell = get_cell(u,i+ng[0],j+ng[1],x,y)\n",
    "        if cell > max_cell: \n",
    "            max_cell = cell\n",
    "            max_coords = [i+ng[0],j+ng[1]]\n",
    "    best_strategy = get_cell(m,max_coords[0],max_coords[1],x,y)\n",
    "    return best_strategy\n",
    "\n",
    "def update_strategies(m,x,y,neighbors,u):\n",
    "    for i in range(x):\n",
    "        for j in range(y):\n",
    "            m[i,j] = pick_strategy(m,i,j,x,y,neighbors,u)\n",
    "    return m\n",
    "\n",
    "def iterate_pd(x,y,r,s,t,p,max_iterations,debug=False):\n",
    "    ms = []\n",
    "    neighbors = [[-1,-1],[-1,0],[-1,1],[0,-1],[0,1],[1,-1],[1,0],[1,1]]\n",
    "    m = np.random.randint(2, size=(x, y))\n",
    "    ms.append(copy.copy(m))\n",
    "    if debug:\n",
    "        print(f\"m [{0}]:\\n{m}\")\n",
    "    for i in range(max_iterations):\n",
    "        u = utility(m,r,s,t,p,x,y,neighbors)\n",
    "        m = update_strategies(m,x,y,neighbors,u)\n",
    "        ms.append(copy.copy(m))\n",
    "        if debug:\n",
    "            print(f\"u [{i}]:\\n{u}\")\n",
    "            print(f\"m [{i+1}]:\\n{m}\")         \n",
    "    return ms"
   ]
  },
  {
   "cell_type": "markdown",
   "metadata": {},
   "source": [
    "### Sub task 1 - Investigate the behavior of the system when R = 3; S = 2; T = 4; P = 0"
   ]
  },
  {
   "cell_type": "code",
   "execution_count": 93,
   "metadata": {},
   "outputs": [
    {
     "name": "stdout",
     "output_type": "stream",
     "text": [
      "iteration:0\n"
     ]
    },
    {
     "data": {
      "text/html": [
       "<table><tr><td>0</td><td>1</td><td>0</td><td>0</td><td>1</td></tr><tr><td>1</td><td>1</td><td>1</td><td>0</td><td>0</td></tr><tr><td>1</td><td>0</td><td>1</td><td>1</td><td>0</td></tr><tr><td>1</td><td>1</td><td>1</td><td>1</td><td>0</td></tr><tr><td>0</td><td>0</td><td>1</td><td>0</td><td>1</td></tr></table>"
      ],
      "text/plain": [
       "<IPython.core.display.HTML object>"
      ]
     },
     "metadata": {},
     "output_type": "display_data"
    },
    {
     "name": "stdout",
     "output_type": "stream",
     "text": [
      "iteration:1\n"
     ]
    },
    {
     "data": {
      "text/html": [
       "<table><tr><td>0</td><td>0</td><td>0</td><td>0</td><td>0</td></tr><tr><td>0</td><td>0</td><td>0</td><td>0</td><td>0</td></tr><tr><td>0</td><td>1</td><td>0</td><td>0</td><td>0</td></tr><tr><td>0</td><td>0</td><td>0</td><td>0</td><td>0</td></tr><tr><td>0</td><td>0</td><td>0</td><td>0</td><td>0</td></tr></table>"
      ],
      "text/plain": [
       "<IPython.core.display.HTML object>"
      ]
     },
     "metadata": {},
     "output_type": "display_data"
    },
    {
     "name": "stdout",
     "output_type": "stream",
     "text": [
      "iteration:2\n"
     ]
    },
    {
     "data": {
      "text/html": [
       "<table><tr><td>0</td><td>0</td><td>0</td><td>0</td><td>0</td></tr><tr><td>0</td><td>0</td><td>0</td><td>0</td><td>0</td></tr><tr><td>0</td><td>0</td><td>0</td><td>0</td><td>0</td></tr><tr><td>0</td><td>0</td><td>0</td><td>0</td><td>0</td></tr><tr><td>0</td><td>0</td><td>0</td><td>0</td><td>0</td></tr></table>"
      ],
      "text/plain": [
       "<IPython.core.display.HTML object>"
      ]
     },
     "metadata": {},
     "output_type": "display_data"
    }
   ],
   "source": [
    "m = iterate_pd(x=5,y=5,r=3,s=2,t=4,p=0,max_iterations=2,debug=False)\n",
    "\n",
    "for ite,val in enumerate(m):\n",
    "    print(f\"iteration:{ite}\")\n",
    "    display_table(val)"
   ]
  },
  {
   "cell_type": "markdown",
   "metadata": {},
   "source": [
    "### Sub task 2 - Try to use different values of R, S, T, P – observe the formation of different patterns. Use Wikipedia for searching different combinations of these parameters."
   ]
  },
  {
   "cell_type": "markdown",
   "metadata": {},
   "source": [
    "We try $r = 3$, $s = 2$, $t = 4$ and $p = 10$ to observe a game where the punishment is really high, suggesting to cooperate"
   ]
  },
  {
   "cell_type": "code",
   "execution_count": 94,
   "metadata": {},
   "outputs": [
    {
     "name": "stdout",
     "output_type": "stream",
     "text": [
      "iteration:0\n"
     ]
    },
    {
     "data": {
      "text/html": [
       "<table><tr><td>1</td><td>0</td><td>1</td><td>1</td><td>1</td></tr><tr><td>0</td><td>0</td><td>1</td><td>0</td><td>1</td></tr><tr><td>0</td><td>0</td><td>1</td><td>0</td><td>1</td></tr><tr><td>0</td><td>0</td><td>0</td><td>1</td><td>1</td></tr><tr><td>0</td><td>1</td><td>0</td><td>0</td><td>0</td></tr></table>"
      ],
      "text/plain": [
       "<IPython.core.display.HTML object>"
      ]
     },
     "metadata": {},
     "output_type": "display_data"
    },
    {
     "name": "stdout",
     "output_type": "stream",
     "text": [
      "iteration:1\n"
     ]
    },
    {
     "data": {
      "text/html": [
       "<table><tr><td>1</td><td>1</td><td>1</td><td>1</td><td>1</td></tr><tr><td>1</td><td>1</td><td>1</td><td>1</td><td>1</td></tr><tr><td>1</td><td>1</td><td>1</td><td>1</td><td>1</td></tr><tr><td>1</td><td>0</td><td>1</td><td>1</td><td>1</td></tr><tr><td>1</td><td>1</td><td>1</td><td>1</td><td>1</td></tr></table>"
      ],
      "text/plain": [
       "<IPython.core.display.HTML object>"
      ]
     },
     "metadata": {},
     "output_type": "display_data"
    },
    {
     "name": "stdout",
     "output_type": "stream",
     "text": [
      "iteration:2\n"
     ]
    },
    {
     "data": {
      "text/html": [
       "<table><tr><td>1</td><td>1</td><td>1</td><td>1</td><td>1</td></tr><tr><td>1</td><td>1</td><td>1</td><td>1</td><td>1</td></tr><tr><td>1</td><td>1</td><td>1</td><td>1</td><td>1</td></tr><tr><td>1</td><td>1</td><td>1</td><td>1</td><td>1</td></tr><tr><td>1</td><td>1</td><td>1</td><td>1</td><td>1</td></tr></table>"
      ],
      "text/plain": [
       "<IPython.core.display.HTML object>"
      ]
     },
     "metadata": {},
     "output_type": "display_data"
    }
   ],
   "source": [
    "m = iterate_pd(x=5,y=5,r=3,s=2,t=4,p=10,max_iterations=2,debug=False)\n",
    "\n",
    "for ite,val in enumerate(m):\n",
    "    print(f\"iteration:{ite}\")\n",
    "    display_table(val)"
   ]
  },
  {
   "cell_type": "markdown",
   "metadata": {},
   "source": [
    "# Task 2 - Beddington DeAngelis Model"
   ]
  },
  {
   "cell_type": "markdown",
   "metadata": {},
   "source": [
    "Add description here"
   ]
  },
  {
   "cell_type": "markdown",
   "metadata": {},
   "source": [
    "### Constructing the system"
   ]
  },
  {
   "cell_type": "code",
   "execution_count": 101,
   "metadata": {},
   "outputs": [
    {
     "name": "stdout",
     "output_type": "stream",
     "text": [
      "iteration:0\n"
     ]
    },
    {
     "data": {
      "text/html": [
       "<table><tr><td>0</td><td>1</td><td>1</td><td>0</td><td>0</td></tr><tr><td>0</td><td>1</td><td>1</td><td>1</td><td>0</td></tr><tr><td>1</td><td>1</td><td>0</td><td>0</td><td>0</td></tr><tr><td>1</td><td>1</td><td>0</td><td>1</td><td>1</td></tr><tr><td>0</td><td>0</td><td>1</td><td>0</td><td>0</td></tr></table>"
      ],
      "text/plain": [
       "<IPython.core.display.HTML object>"
      ]
     },
     "metadata": {},
     "output_type": "display_data"
    },
    {
     "name": "stdout",
     "output_type": "stream",
     "text": [
      "iteration:1\n"
     ]
    },
    {
     "data": {
      "text/html": [
       "<table><tr><td>0</td><td>0</td><td>0</td><td>0</td><td>0</td></tr><tr><td>0</td><td>0</td><td>0</td><td>0</td><td>0</td></tr><tr><td>0</td><td>0</td><td>0</td><td>0</td><td>0</td></tr><tr><td>0</td><td>0</td><td>0</td><td>0</td><td>0</td></tr><tr><td>0</td><td>0</td><td>0</td><td>0</td><td>0</td></tr></table>"
      ],
      "text/plain": [
       "<IPython.core.display.HTML object>"
      ]
     },
     "metadata": {},
     "output_type": "display_data"
    },
    {
     "name": "stdout",
     "output_type": "stream",
     "text": [
      "iteration:2\n"
     ]
    },
    {
     "data": {
      "text/html": [
       "<table><tr><td>0</td><td>0</td><td>0</td><td>0</td><td>0</td></tr><tr><td>0</td><td>0</td><td>0</td><td>0</td><td>0</td></tr><tr><td>0</td><td>0</td><td>0</td><td>0</td><td>0</td></tr><tr><td>0</td><td>0</td><td>0</td><td>0</td><td>0</td></tr><tr><td>0</td><td>0</td><td>0</td><td>0</td><td>0</td></tr></table>"
      ],
      "text/plain": [
       "<IPython.core.display.HTML object>"
      ]
     },
     "metadata": {},
     "output_type": "display_data"
    }
   ],
   "source": [
    "import numpy as np\n",
    "import copy\n",
    "    \n",
    "def get_cell_zero_flux(m,i,j,x,y):\n",
    "    if i >= x : return 0\n",
    "    if i < 0: return 0\n",
    "    if j >= y: return 0\n",
    "    if j < 0 : return 0\n",
    "    return m[i,j]\n",
    "\n",
    "def get_laplacian(n,i,j,x,y,neighbors,h):\n",
    "    total = 0\n",
    "    for ng in neighbors:\n",
    "        cell = get_cell_zero_flux(n,i+ng[0],j+ng[1],x,y)\n",
    "        total += cell\n",
    "    return (total - 4*n[i,j]) / h**2\n",
    "\n",
    "\n",
    "def f_n(n,p,d11,d12,t,r,e,beta,k,ni,w,b):\n",
    "    delta2n = 0 # ???\n",
    "    delta2p = 0 # ???\n",
    "    return r*(1-n/k)*n - beta*n/(b+n+w*p)*p + d11*delta2n + d12*delta2p\n",
    "\n",
    "def f_p(n,p,d21,d22,t,r,e,beta,k,ni,w,b):\n",
    "    delta2n = 0 # ???\n",
    "    delta2p = 0 # ???\n",
    "    return e*beta*n/(b+n+w*p)*p - ni*p + d21*delta2n + d22*delta2p \n",
    "\n",
    "def next_n(n,p,laplacian,d11,d12,t,r,e,beta,k,ni,w,b):\n",
    "    return n + t*d11*laplacian*n + t*d12*laplacian*n + t*f_n(n,p,d11,d12,t,r,e,beta,k,ni,w,b)\n",
    "\n",
    "def next_p(n,p,laplacian,d21,d22,t,r,e,beta,k,ni,w,b):\n",
    "    return p + t*d21*laplacian*n + t*d22*laplacian*p + t*f_p(n,p,d21,d22,t,r,e,beta,k,ni,w,b)\n",
    "\n",
    "def generate_system(x,y,h,d11,d12,d21,d22,t,r,e,beta,k,ni,w,b,ite):\n",
    "    p = np.random.randint(2, size=(x, y))\n",
    "    n = np.random.randint(2, size=(x, y))\n",
    "    ps = []\n",
    "    ns = []\n",
    "    ps.append(copy.copy(p))\n",
    "    ns.append(copy.copy(n))\n",
    "    neighbors = [[-1,-1],[-1,0],[-1,1],[0,-1],[0,1],[1,-1],[1,0],[1,1]]\n",
    "\n",
    "    for it in range(ite):\n",
    "        for i in range(x):\n",
    "            for j in range(y):\n",
    "                laplacian = get_laplacian(n,i,j,x,y,neighbors,h)\n",
    "                n0 = get_cell(n,i,j,x,y)\n",
    "                p0 = get_cell(p,i,j,x,y)\n",
    "                p[i,j] = next_p(n0,p0,laplacian,d21,d22,t,r,e,beta,k,ni,w,b)\n",
    "                n[i,j] = next_n(n0,p0,laplacian,d11,d12,t,r,e,beta,k,ni,w,b)\n",
    "        ps.append(copy.copy(p))\n",
    "        ns.append(copy.copy(n))\n",
    "    return ps,ns\n",
    "            \n",
    "ps,ns = generate_system(x=5,y=5,h=0.25,d11=0.01,d12=0.0115,d21=0.01,d22=1,\n",
    "                        t=0.01,r=0.5,e=1,beta=0.6,k=2.6,ni=0.25,w=0.4,b=0.3154,ite=2)\n",
    "\n",
    "for ite,val in enumerate(ns):\n",
    "    print(f\"iteration:{ite}\")\n",
    "    display_table(val)"
   ]
  },
  {
   "cell_type": "markdown",
   "metadata": {},
   "source": [
    "### Sub task 1 - Construct the numerical scheme for the Beddington DeAngelis model. Simulate and replicate the results shown in Figure 1."
   ]
  },
  {
   "cell_type": "code",
   "execution_count": null,
   "metadata": {},
   "outputs": [],
   "source": []
  },
  {
   "cell_type": "markdown",
   "metadata": {},
   "source": [
    "### Sub task 2 - Experiment with different distributions of random numbers in the initial concentration of predators and preys. Observe the differences in the patterns."
   ]
  },
  {
   "cell_type": "code",
   "execution_count": null,
   "metadata": {},
   "outputs": [],
   "source": []
  },
  {
   "cell_type": "markdown",
   "metadata": {},
   "source": [
    "### Sub task 2 - Try to change the parameters of the system and observe how these changes result into different types of patterns."
   ]
  },
  {
   "cell_type": "code",
   "execution_count": null,
   "metadata": {},
   "outputs": [],
   "source": []
  }
 ],
 "metadata": {
  "kernelspec": {
   "display_name": "Python 3",
   "language": "python",
   "name": "python3"
  },
  "language_info": {
   "codemirror_mode": {
    "name": "ipython",
    "version": 3
   },
   "file_extension": ".py",
   "mimetype": "text/x-python",
   "name": "python",
   "nbconvert_exporter": "python",
   "pygments_lexer": "ipython3",
   "version": "3.7.0"
  }
 },
 "nbformat": 4,
 "nbformat_minor": 2
}
