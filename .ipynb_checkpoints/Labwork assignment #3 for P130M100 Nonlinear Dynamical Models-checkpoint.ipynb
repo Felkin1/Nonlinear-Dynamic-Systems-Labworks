{
 "cells": [
  {
   "cell_type": "markdown",
   "metadata": {},
   "source": [
    "# Cheatsheets\n",
    "https://wch.github.io/latexsheet/ - Latex"
   ]
  },
  {
   "cell_type": "markdown",
   "metadata": {},
   "source": [
    "# Notebook Link\n",
    "http://nbviewer.jupyter.org/github/Felkin1/Nonlinear-Dynamic-Systems-Labworks/blob/master/Assignment%20%232.ipynb"
   ]
  },
  {
   "cell_type": "markdown",
   "metadata": {},
   "source": [
    "# Initial programming environment preparations"
   ]
  },
  {
   "cell_type": "code",
   "execution_count": 126,
   "metadata": {},
   "outputs": [],
   "source": [
    "import numpy as np\n",
    "from sympy import dsolve, Eq, symbols, Function\n",
    "import matplotlib.pyplot as plt\n",
    "from matplotlib import animation, rc\n",
    "from IPython.core.display import HTML\n",
    "from pylab import rcParams\n",
    "import matplotlib\n",
    "from mpl_toolkits.mplot3d import Axes3D\n",
    "from matplotlib.animation import ArtistAnimation\n",
    "from scipy.integrate import odeint\n",
    "import math\n",
    "from sympy import collect, expand, Function, Symbol\n",
    "from sympy import init_printing\n",
    "from sympy import sin, tan, cos, sinh, cosh, tanh\n",
    "from sympy.simplify.trigsimp import trigsimp_groebner"
   ]
  },
  {
   "cell_type": "code",
   "execution_count": 127,
   "metadata": {},
   "outputs": [
    {
     "data": {
      "text/html": [
       "\n",
       "<style>\n",
       ".animation {\n",
       "    display: table-cell;\n",
       "    vertical-align: left;\n",
       "    align: left;\n",
       "}\n",
       "</style>\n"
      ],
      "text/plain": [
       "<IPython.core.display.HTML object>"
      ]
     },
     "execution_count": 127,
     "metadata": {},
     "output_type": "execute_result"
    }
   ],
   "source": [
    "%matplotlib inline\n",
    "rc('animation', html='jshtml')\n",
    "#rcParams['figure.figsize'] = 10, 5\n",
    "HTML(\"\"\"\n",
    "<style>\n",
    ".animation {\n",
    "    display: table-cell;\n",
    "    vertical-align: left;\n",
    "    align: left;\n",
    "}\n",
    "</style>\n",
    "\"\"\")"
   ]
  },
  {
   "cell_type": "code",
   "execution_count": 128,
   "metadata": {},
   "outputs": [],
   "source": [
    "def init_fig():\n",
    "    fig, ax = plt.subplots()\n",
    "    line, = ax.plot([], [], lw=2)\n",
    "    #plt.close(fig)\n",
    "    return fig,ax,line\n",
    "\n",
    "def init_fig_3d():\n",
    "    fig = plt.figure(figsize=(8, 6))\n",
    "    ax = fig.add_subplot(1, 1, 1, projection='3d')\n",
    "    line, = ax.plot([], [], [], lw=3)\n",
    "    return fig,ax,line\n",
    "\n",
    "def init():\n",
    "    line, = ax.plot([], [], lw=2)\n",
    "    line.set_data([], [])\n",
    "    return (line,)\n",
    "\n",
    "def init_multi():\n",
    "    for line in lines:\n",
    "        line.set_data([],[])\n",
    "    return lines\n",
    "\n",
    "def animate(func,frames,interval):    \n",
    "    plt.close(fig)\n",
    "    return animation.FuncAnimation(fig, func, init_func=init,\n",
    "                                       frames=frames, interval=interval, \n",
    "                                       blit=True)\n",
    "    \n",
    "def set_figure(ax,xlim,ylim,xlabel,ylabel,title):\n",
    "    ax.set_xlim(xlim)\n",
    "    ax.set_ylim(ylim)\n",
    "    ax.set_xlabel(xlabel)\n",
    "    ax.set_ylabel(ylabel)\n",
    "    ax.set_title(title)"
   ]
  },
  {
   "cell_type": "code",
   "execution_count": 129,
   "metadata": {},
   "outputs": [],
   "source": [
    "def newmark(f,t,m,h,k,x0):\n",
    "    '''Newmark integrator\n",
    "    x0 = [3 x 1] array where the index represents the order of integration\n",
    "    example - x0[0] = x, x0[1] = x', x0[2] = x''\n",
    "    '''\n",
    "    x = np.zeros(3) # prepare array for new values\n",
    "    x[2] = (f - (h*t/2 + k*t*t/4) * x0[2] - (h+k*t) * x0[1] - k*x0[0]) / (m + h*t/2 + k*t*t/4)\n",
    "    x[1] = x0[1] + (x0[2]+x[2]) * t/2\n",
    "    x[0] = x0[0] + x0[1]*t + (x0[2] + x[2]) * t*t/4\n",
    "\n",
    "    return x"
   ]
  },
  {
   "cell_type": "markdown",
   "metadata": {},
   "source": [
    "# Task 1\n",
    "## Outline\n",
    "Follow the Lindstedt’s method description in the lecture notes (in Moodle). Note, that the method is\n",
    "illustrated for Duffing’s equation and all computations are limited to $x_1$. Try to make one step forward – collect\n",
    "the terms at $e^{2}$, use the expression of $x_1$, identify secular terms, and derive the expression of $x_2$. Symbolic\n",
    "algebra tools are highly recommended for the execution of the task. Try to visualize the derived solutions – do\n",
    "not forget that the time scale is transformed."
   ]
  },
  {
   "cell_type": "markdown",
   "metadata": {},
   "source": [
    "# Task 2\n",
    "## Outline\n",
    "Hopf bifurcation. Try to simulate a “real world” problem – the Brusselator model. Yes, you will not find the\n",
    "description of this model in our lecture notes – therefore this is a “real world” problem. Try to search the web\n",
    "– find the description of the model, construct the code for simulation, illustrate Hopf bifurcation. Remember\n",
    "that Newmark method will not work – you will not be able to transform a system of two first order ODEs into\n",
    "one second order ODE. Suggestion – use Euler, Adams or even RK integration method. What??? No problems –\n",
    "search the web. Yes, you will feel like immersed into a “real world” environment. BTW, you are not requested\n",
    "to simulate the Brusselator as a reaction diffusion system in two spatial dimensions. Self-organizing patterns is\n",
    "another topic which we will reach later in the course (assume now that the Brusselator model is described by a\n",
    "system of two first order ODEs with constant coefficients). Discuss what type of Hopf bifurcation you are able\n",
    "to observe using this model."
   ]
  },
  {
   "cell_type": "markdown",
   "metadata": {},
   "source": [
    "## Solution\n",
    "We start off by defining the Brusselator model.\n",
    "The Brusselator's chemical reactions are defined as:\n",
    "\n",
    "$A −→ X$\n",
    "\n",
    "$2X + Y −→ 3X$\n",
    "\n",
    "$B + X −→ Y + C$\n",
    "\n",
    "$X −→ D$\n",
    "\n",
    "From this, we can derive two ODE's to model the system:\n",
    "\n",
    "$\\dot{x} = 1 − (b + 1)x + ax^2y$\n",
    "\n",
    "$\\dot{y} = bx − ax^2y$\n",
    "\n",
    "We proceed by writing out the function that inputs $x,a,b$ and returns $\\dot{x}$ and $\\dot{y}$\n",
    "\n",
    "An additional $t$ parameter is added to fit the coding convention for the plotting library of the programming language."
   ]
  },
  {
   "cell_type": "markdown",
   "metadata": {},
   "source": [
    "# Task 3\n",
    "## Outline\n",
    "Homoclinic bifurcation. Part 1. Remember the last task from Lab 1? It’s a high time to return to the same\n",
    "problem. Try to carefully illustrate the homoclinic bifurcation in this system. Explain in your own words – what\n",
    "happens when the homoclinic bifurcation occurs in this system. Part 2. Consider the following model:\n",
    "$\\frac{d^2 y}{dx^2} + A\\frac{dy}{dx} + y = y^3 - y^2\\frac{dy}{dx}$. \n",
    "Use numerical integration to identify the critical value of the parameter $A$ where\n",
    "the homoclinic bifurcation occurs."
   ]
  },
  {
   "cell_type": "markdown",
   "metadata": {},
   "source": [
    "## Solution - Part 1\n",
    "\n",
    "We are working with the damped oscillator described using the following equation:\n",
    "\n",
    "$\\frac{d^2 x}{dt^2} + h\\frac{dx}{dt} + a \\sin(x) = b$\n",
    "\n",
    "$h > 0; a > 0; b > 0$\n",
    "\n",
    "We may rewrite the equation as follows:\n",
    "\n",
    "$mx'' + hx' + a\\sin(x)=b$"
   ]
  },
  {
   "cell_type": "code",
   "execution_count": null,
   "metadata": {},
   "outputs": [],
   "source": []
  }
 ],
 "metadata": {
  "kernelspec": {
   "display_name": "Python 3",
   "language": "python",
   "name": "python3"
  },
  "language_info": {
   "codemirror_mode": {
    "name": "ipython",
    "version": 3
   },
   "file_extension": ".py",
   "mimetype": "text/x-python",
   "name": "python",
   "nbconvert_exporter": "python",
   "pygments_lexer": "ipython3",
   "version": "3.7.0"
  }
 },
 "nbformat": 4,
 "nbformat_minor": 2
}
