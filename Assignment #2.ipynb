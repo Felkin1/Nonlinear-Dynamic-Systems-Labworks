{
 "cells": [
  {
   "cell_type": "markdown",
   "metadata": {},
   "source": [
    "# Labwork assignment #2 for P130M100 Nonlinear Dynamical Models"
   ]
  },
  {
   "cell_type": "markdown",
   "metadata": {},
   "source": [
    "## Task 1\n",
    "Follow the Lindstedt’s method description in the lecture notes (in Moodle). Note, that the method is\n",
    "illustrated for Duffing’s equation and all computations are limited to $x_1$. Try to make one step forward – collect\n",
    "the terms at $e^{2}$, use the expression of $x_1$, identify secular terms, and derive the expression of $x_2$. Symbolic\n",
    "algebra tools are highly recommended for the execution of the task. Try to visualize the derived solutions – do\n",
    "not forget that the time scale is transformed."
   ]
  },
  {
   "cell_type": "code",
   "execution_count": null,
   "metadata": {},
   "outputs": [],
   "source": []
  },
  {
   "cell_type": "markdown",
   "metadata": {},
   "source": [
    "## Task 2\n",
    "Hopf bifurcation. Try to simulate a “real world” problem – the Brusselator model. Yes, you will not find the\n",
    "description of this model in our lecture notes – therefore this is a “real world” problem. Try to search the web\n",
    "– find the description of the model, construct the code for simulation, illustrate Hopf bifurcation. Remember\n",
    "that Newmark method will not work – you will not be able to transform a system of two first order ODEs into\n",
    "one second order ODE. Suggestion – use Euler, Adams or even RK integration method. What??? No problems –\n",
    "search the web. Yes, you will feel like immersed into a “real world” environment. BTW, you are not requested\n",
    "to simulate the Brusselator as a reaction diffusion system in two spatial dimensions. Self-organizing patterns is\n",
    "another topic which we will reach later in the course (assume now that the Brusselator model is described by a\n",
    "system of two first order ODEs with constant coefficients). Discuss what type of Hopf bifurcation you are able\n",
    "to observe using this model."
   ]
  },
  {
   "cell_type": "code",
   "execution_count": null,
   "metadata": {},
   "outputs": [],
   "source": []
  },
  {
   "cell_type": "markdown",
   "metadata": {},
   "source": [
    "## Task 3\n",
    "Homoclinic bifurcation. Part 1. Remember the last task from Lab 1? It’s a high time to return to the same\n",
    "problem. Try to carefully illustrate the homoclinic bifurcation in this system. Explain in your own words – what\n",
    "happens when the homoclinic bifurcation occurs in this system. Part 2. Consider the following model:\n",
    "$\\frac{d^2 y}{dx^2} + A\\frac{dy}{dx} + y = y^3 - y^2\\frac{dy}{dx}$. \n",
    "Use numerical integration to identify the critical value of the parameter $A$ where\n",
    "the homoclinic bifurcation occurs."
   ]
  },
  {
   "cell_type": "code",
   "execution_count": null,
   "metadata": {},
   "outputs": [],
   "source": []
  },
  {
   "cell_type": "markdown",
   "metadata": {},
   "source": [
    "## Task 4\n",
    "The hysteresis effect (the forced Duffing oscillator).\n",
    "The model reads: $\\frac{d^2 x}{dt^2} + 0.1\\frac{d^2 x}{dt} + x + \\alpha x^3 = 0.5 cos(\\omega t)$. Set $\\alpha$ = 0.1. Illustrate the jump effect by slowly\n",
    "varying $\\omega$ starting from 0 to 2 – and then on the opposite – starting from 2 to 0. What does it mean “slowly\n",
    "varying”? It means that you are requested to run computational simulations and vary $\\omega$ so slowly that it would\n",
    "not affect the transient processes. You could vary $\\omega$ in every time step by a tiny fraction – so tiny that it does\n",
    "not show a vivid impact to the transient processes. What you are requested to plot? – $\\omega$ on the horizontal axis\n",
    "– and the amplitude of t|he steady state oscillations on the vertical axis. Repeat the simulation at $\\alpha$ = −0.1."
   ]
  },
  {
   "cell_type": "code",
   "execution_count": null,
   "metadata": {},
   "outputs": [],
   "source": []
  },
  {
   "cell_type": "markdown",
   "metadata": {},
   "source": [
    "## Task 5\n",
    "Period doubling bifurcations and road to chaos in a forced mathematical pendulum.\n",
    "This paradigmatic model reads: $\\frac{d^2 x}{dt^2} + h \\frac{dx}{dt} + sin(x) = bcos(\\omega t)$. Set $\\omega$ = 2/3; $b$ = 2.048 and illustrate the\n",
    "bifurcation diagram by slowly varying $h$ from 1.05 to 1. What are you requested to plot? - $h$ on the horizontal\n",
    "axis – and Poincare section points of $\\frac{dx}{dt}$ on the vertical axis. Comment the results."
   ]
  },
  {
   "cell_type": "code",
   "execution_count": null,
   "metadata": {},
   "outputs": [],
   "source": []
  }
 ],
 "metadata": {
  "kernelspec": {
   "display_name": "Python 3",
   "language": "python",
   "name": "python3"
  },
  "language_info": {
   "codemirror_mode": {
    "name": "ipython",
    "version": 3
   },
   "file_extension": ".py",
   "mimetype": "text/x-python",
   "name": "python",
   "nbconvert_exporter": "python",
   "pygments_lexer": "ipython3",
   "version": "3.7.0"
  }
 },
 "nbformat": 4,
 "nbformat_minor": 2
}
